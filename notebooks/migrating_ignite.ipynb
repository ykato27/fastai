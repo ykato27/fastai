{
  "nbformat": 4,
  "nbformat_minor": 0,
  "metadata": {
    "jupytext": {
      "split_at_heading": true
    },
    "kernelspec": {
      "display_name": "Python 3",
      "language": "python",
      "name": "python3"
    },
    "colab": {
      "name": "migrating_ignite.ipynb",
      "provenance": [],
      "include_colab_link": true
    }
  },
  "cells": [
    {
      "cell_type": "markdown",
      "metadata": {
        "id": "view-in-github",
        "colab_type": "text"
      },
      "source": [
        "<a href=\"https://colab.research.google.com/github/ykato27/fastai/blob/main/migrating_ignite.ipynb\" target=\"_parent\"><img src=\"https://colab.research.google.com/assets/colab-badge.svg\" alt=\"Open In Colab\"/></a>"
      ]
    },
    {
      "cell_type": "code",
      "metadata": {
        "id": "8RISdG2P3lYy"
      },
      "source": [
        "#all_slow"
      ],
      "execution_count": null,
      "outputs": []
    },
    {
      "cell_type": "markdown",
      "metadata": {
        "id": "4q3iXNwP3lY6"
      },
      "source": [
        "# Tutorial - Migrating from Ignite\n",
        "\n",
        "> Incrementally adding fastai goodness to your Ignite training"
      ]
    },
    {
      "cell_type": "markdown",
      "metadata": {
        "id": "iZJ_-VML3lZB"
      },
      "source": [
        "We're going to use the MNIST training code from Ignite's examples directory (as at August 2020), converted to a module.\n",
        "\n",
        "> Note: The source script for `migrating_ignite` is in the `examples` subdirectory of this folder if you checked out the `fastai` repo from git, or can be downloaded from [here](https://github.com/fastai/fastai/blob/master/nbs/examples/migrating_ignite.py) if you're using an online viewer such as Colab. "
      ]
    },
    {
      "cell_type": "code",
      "metadata": {
        "id": "5rRjuPF03lZC"
      },
      "source": [
        "from migrating_ignite import *\n",
        "\n",
        "from fastai.vision.all import *"
      ],
      "execution_count": null,
      "outputs": []
    },
    {
      "cell_type": "markdown",
      "metadata": {
        "id": "A4eivtvA3lZD"
      },
      "source": [
        "To use it in fastai, we first pull the DataLoaders from the module into a `DataLoaders` object:"
      ]
    },
    {
      "cell_type": "code",
      "metadata": {
        "id": "eN5imwX63lZE"
      },
      "source": [
        "data = DataLoaders(*get_data_loaders(64, 128)).cuda()"
      ],
      "execution_count": null,
      "outputs": []
    },
    {
      "cell_type": "markdown",
      "metadata": {
        "id": "wicm7U6H3lZF"
      },
      "source": [
        "We can now create a `Learner` and fit:"
      ]
    },
    {
      "cell_type": "code",
      "metadata": {
        "id": "kh7ZoceO3lZI",
        "outputId": "82c239f5-100c-47d9-d1b2-26a41458d42a"
      },
      "source": [
        "opt_func = partial(SGD, momentum=0.5)\n",
        "learn = Learner(data, Net(), loss_func=nn.NLLLoss(), opt_func=opt_func, metrics=accuracy)\n",
        "learn.fit_one_cycle(1, 0.01)"
      ],
      "execution_count": null,
      "outputs": [
        {
          "data": {
            "text/html": [
              "<table border=\"1\" class=\"dataframe\">\n",
              "  <thead>\n",
              "    <tr style=\"text-align: left;\">\n",
              "      <th>epoch</th>\n",
              "      <th>train_loss</th>\n",
              "      <th>valid_loss</th>\n",
              "      <th>accuracy</th>\n",
              "      <th>time</th>\n",
              "    </tr>\n",
              "  </thead>\n",
              "  <tbody>\n",
              "    <tr>\n",
              "      <td>0</td>\n",
              "      <td>0.999266</td>\n",
              "      <td>0.597913</td>\n",
              "      <td>0.856200</td>\n",
              "      <td>00:22</td>\n",
              "    </tr>\n",
              "  </tbody>\n",
              "</table>"
            ],
            "text/plain": [
              "<IPython.core.display.HTML object>"
            ]
          },
          "metadata": {},
          "output_type": "display_data"
        }
      ]
    },
    {
      "cell_type": "markdown",
      "metadata": {
        "id": "T2oh1Oqo3lZK"
      },
      "source": [
        "As you can see, migrating from Ignite allowed us to replace 52 lines of code (in `run()`) with just 3 lines, and doesn't require you to change any of your existing data pipelines, optimizers, loss functions, models, etc. Once you've made this change, you can then benefit from fastai's rich set of callbacks, transforms, visualizations, and so forth.\n",
        "\n",
        "Note that fastai is very different from Ignite, in that it is much more than just a training loop (although we're only using the training loop in this example) - it is a complete framework including GPU-accelerated transformations, end-to-end inference, integrated applications for vision, text, tabular, and collaborative filtering, and so forth. You can use any part of the framework on its own, or combine them together, as described in the [fastai paper](https://arxiv.org/abs/2002.04688)."
      ]
    },
    {
      "cell_type": "code",
      "metadata": {
        "id": "kgMD4ahb3lZK"
      },
      "source": [
        ""
      ],
      "execution_count": null,
      "outputs": []
    }
  ]
}