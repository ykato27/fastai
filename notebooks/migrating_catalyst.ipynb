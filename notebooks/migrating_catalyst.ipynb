{
  "nbformat": 4,
  "nbformat_minor": 0,
  "metadata": {
    "jupytext": {
      "split_at_heading": true
    },
    "kernelspec": {
      "display_name": "Python 3",
      "language": "python",
      "name": "python3"
    },
    "colab": {
      "name": "migrating_catalyst.ipynb",
      "provenance": [],
      "collapsed_sections": [],
      "include_colab_link": true
    }
  },
  "cells": [
    {
      "cell_type": "markdown",
      "metadata": {
        "id": "view-in-github",
        "colab_type": "text"
      },
      "source": [
        "<a href=\"https://colab.research.google.com/github/ykato27/fastai/blob/main/migrating_catalyst.ipynb\" target=\"_parent\"><img src=\"https://colab.research.google.com/assets/colab-badge.svg\" alt=\"Open In Colab\"/></a>"
      ]
    },
    {
      "cell_type": "code",
      "metadata": {
        "id": "F-7YH-bo4CP_"
      },
      "source": [
        "#all_slow"
      ],
      "execution_count": null,
      "outputs": []
    },
    {
      "cell_type": "code",
      "metadata": {
        "id": "XtaEcT_34CQF"
      },
      "source": [
        "from fastai.vision.all import *"
      ],
      "execution_count": null,
      "outputs": []
    },
    {
      "cell_type": "markdown",
      "metadata": {
        "id": "P77Yry_y4CQF"
      },
      "source": [
        "# Tutorial - Migrating from Catalyst\n",
        "\n",
        "> Incrementally adding fastai goodness to your Catalyst training"
      ]
    },
    {
      "cell_type": "markdown",
      "metadata": {
        "id": "ioRIDCPn4CQH"
      },
      "source": [
        "## Catalyst code"
      ]
    },
    {
      "cell_type": "markdown",
      "metadata": {
        "id": "T4YaRLWQ4CQI"
      },
      "source": [
        "We're going to use the MNIST training code from Catalyst's README (as at August 2020), converted to a module.\n",
        "\n",
        "> Note: The source script for `migrating_catalyst` is in the `examples` subdirectory of this folder if you checked out the `fastai` repo from git, or can be downloaded from [here](https://github.com/fastai/fastai/blob/master/nbs/examples/migrating_catalyst.py) if you're using an online viewer such as Colab. "
      ]
    },
    {
      "cell_type": "code",
      "metadata": {
        "id": "zkziSg534CQI"
      },
      "source": [
        "from migrating_catalyst import *"
      ],
      "execution_count": null,
      "outputs": []
    },
    {
      "cell_type": "markdown",
      "metadata": {
        "id": "3-70m9uT4CQJ"
      },
      "source": [
        "To use it in fastai, we first convert the Catalyst dict into a `DataLoaders` object:"
      ]
    },
    {
      "cell_type": "code",
      "metadata": {
        "id": "IbquEjD54CQK"
      },
      "source": [
        "data = DataLoaders(loaders['train'], loaders['valid']).cuda()"
      ],
      "execution_count": null,
      "outputs": []
    },
    {
      "cell_type": "markdown",
      "metadata": {
        "id": "GVd016w14CQL"
      },
      "source": [
        "### Using callbacks"
      ]
    },
    {
      "cell_type": "markdown",
      "metadata": {
        "id": "4SLpp3a94CQM"
      },
      "source": [
        "In the Catalyst code, a training loop is defined manually, which is where the input tensor is flattened. In fastai, there's no need to define your own training loop - you can insert your own code into any part of the training process by using a callback, which can even modify data, gradients, the loss function, or anything else in the training loop:"
      ]
    },
    {
      "cell_type": "code",
      "metadata": {
        "id": "uYinllVl4CQN"
      },
      "source": [
        "@before_batch_cb\n",
        "def cb(self, xb, yb): return (xb[0].view(xb[0].size(0), -1),),yb"
      ],
      "execution_count": null,
      "outputs": []
    },
    {
      "cell_type": "markdown",
      "metadata": {
        "id": "FYngXqY44CQO"
      },
      "source": [
        "The Catalyst example also modifies the training loop to add metrics, but you can pass these directly to your `Learner` in fastai:"
      ]
    },
    {
      "cell_type": "code",
      "metadata": {
        "id": "z81iMdTz4CQO"
      },
      "source": [
        "metrics=[accuracy,top_k_accuracy]\n",
        "learn = Learner(data, model, loss_func=F.cross_entropy, opt_func=Adam,\n",
        "                metrics=metrics, cbs=cb)"
      ],
      "execution_count": null,
      "outputs": []
    },
    {
      "cell_type": "markdown",
      "metadata": {
        "id": "ZlVkFsF54CQP"
      },
      "source": [
        "You can now fit your model. fastai supports many schedulers. We recommend using 1cycle:"
      ]
    },
    {
      "cell_type": "code",
      "metadata": {
        "id": "1Oxqyn3s4CQP",
        "outputId": "23c066e8-c89d-4015-9661-321a7dea0824"
      },
      "source": [
        "learn.fit_one_cycle(1, 0.02)"
      ],
      "execution_count": null,
      "outputs": [
        {
          "data": {
            "text/html": [
              "<table border=\"1\" class=\"dataframe\">\n",
              "  <thead>\n",
              "    <tr style=\"text-align: left;\">\n",
              "      <th>epoch</th>\n",
              "      <th>train_loss</th>\n",
              "      <th>valid_loss</th>\n",
              "      <th>accuracy</th>\n",
              "      <th>top_k_accuracy</th>\n",
              "      <th>time</th>\n",
              "    </tr>\n",
              "  </thead>\n",
              "  <tbody>\n",
              "    <tr>\n",
              "      <td>0</td>\n",
              "      <td>0.230145</td>\n",
              "      <td>0.292590</td>\n",
              "      <td>0.924700</td>\n",
              "      <td>0.995000</td>\n",
              "      <td>00:13</td>\n",
              "    </tr>\n",
              "  </tbody>\n",
              "</table>"
            ],
            "text/plain": [
              "<IPython.core.display.HTML object>"
            ]
          },
          "metadata": {},
          "output_type": "display_data"
        }
      ]
    },
    {
      "cell_type": "markdown",
      "metadata": {
        "id": "PEaUR4yu4CQR"
      },
      "source": [
        "As you can see, migrating from Catalyst allowed us to replace 17 lines of code (in `CustomRunner`) with just 3 lines, and doesn't require you to change any of your existing data pipelines, optimizers, loss functions, models, etc. Once you've made this change, you can then benefit from fastai's rich set of callbacks, transforms, visualizations, and so forth.\n",
        "\n",
        "Note that fastai is very different from Catalyst, in that it is much more than just a training loop (although we're only using the training loop in this example) - it is a complete framework including GPU-accelerated transformations, end-to-end inference, integrated applications for vision, text, tabular, and collaborative filtering, and so forth. You can use any part of the framework on its own, or combine them together, as described in the [fastai paper](https://arxiv.org/abs/2002.04688)."
      ]
    },
    {
      "cell_type": "markdown",
      "metadata": {
        "id": "NfywUha-4CQR"
      },
      "source": [
        "### Changing the model"
      ]
    },
    {
      "cell_type": "markdown",
      "metadata": {
        "id": "Q-sYzari4CQS"
      },
      "source": [
        "Instead of using callbacks, in this case you can also simply change the model. Here we pull the `view()` out of the training loop, and into the model, using fastai's `Flatten` layer:"
      ]
    },
    {
      "cell_type": "code",
      "metadata": {
        "id": "1Lq887pT4CQT"
      },
      "source": [
        "model = nn.Sequential(\n",
        "    Flatten(),\n",
        "    torch.nn.Linear(28 * 28, 10))"
      ],
      "execution_count": null,
      "outputs": []
    },
    {
      "cell_type": "markdown",
      "metadata": {
        "id": "U0R0BgP54CQU"
      },
      "source": [
        "We can now create a `Learner` and train without using any callbacks:"
      ]
    },
    {
      "cell_type": "code",
      "metadata": {
        "id": "_LINBban4CQV",
        "outputId": "588cdd18-eada-4172-b111-53a1db9765b3"
      },
      "source": [
        "learn = Learner(data, model, loss_func=F.cross_entropy, opt_func=Adam, metrics=metrics)\n",
        "learn.fit_one_cycle(1, 0.02)"
      ],
      "execution_count": null,
      "outputs": [
        {
          "data": {
            "text/html": [
              "<table border=\"1\" class=\"dataframe\">\n",
              "  <thead>\n",
              "    <tr style=\"text-align: left;\">\n",
              "      <th>epoch</th>\n",
              "      <th>train_loss</th>\n",
              "      <th>valid_loss</th>\n",
              "      <th>accuracy</th>\n",
              "      <th>top_k_accuracy</th>\n",
              "      <th>time</th>\n",
              "    </tr>\n",
              "  </thead>\n",
              "  <tbody>\n",
              "    <tr>\n",
              "      <td>0</td>\n",
              "      <td>0.230051</td>\n",
              "      <td>0.292577</td>\n",
              "      <td>0.924800</td>\n",
              "      <td>0.995100</td>\n",
              "      <td>00:11</td>\n",
              "    </tr>\n",
              "  </tbody>\n",
              "</table>"
            ],
            "text/plain": [
              "<IPython.core.display.HTML object>"
            ]
          },
          "metadata": {},
          "output_type": "display_data"
        }
      ]
    },
    {
      "cell_type": "code",
      "metadata": {
        "id": "CEbJN5OD4CQW"
      },
      "source": [
        ""
      ],
      "execution_count": null,
      "outputs": []
    }
  ]
}